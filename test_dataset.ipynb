{
 "cells": [
  {
   "cell_type": "code",
   "execution_count": 14,
   "metadata": {},
   "outputs": [],
   "source": [
    "import tsplib95\n",
    "import matplotlib.pyplot as plt\n",
    "import networkx as nx\n",
    "import importlib\n",
    "imported_module = importlib.import_module(\"tsp_genetic_algorithm\")\n",
    "importlib.reload(imported_module)\n",
    "from tsp_genetic_algorithm import TSP\n",
    "\n",
    "# Load the original TSP problem\n",
    "original_problem = tsplib95.load('att48.tsp')\n",
    "\n"
   ]
  },
  {
   "cell_type": "code",
   "execution_count": 15,
   "metadata": {},
   "outputs": [
    {
     "name": "stdout",
     "output_type": "stream",
     "text": [
      "[6.35602493964378e-05, 7.57621488043312e-05, 4.851932355310978e-05, 7.2057633964167e-05]\n"
     ]
    },
    {
     "ename": "TypeError",
     "evalue": "'float' object cannot be interpreted as an integer",
     "output_type": "error",
     "traceback": [
      "\u001b[1;31m---------------------------------------------------------------------------\u001b[0m",
      "\u001b[1;31mTypeError\u001b[0m                                 Traceback (most recent call last)",
      "Cell \u001b[1;32mIn[15], line 9\u001b[0m\n\u001b[0;32m      6\u001b[0m reduced_problem\u001b[38;5;241m.\u001b[39mnode_coords \u001b[38;5;241m=\u001b[39m reduced_nodes\n\u001b[0;32m      8\u001b[0m tsp \u001b[38;5;241m=\u001b[39m TSP(reduced_problem, \u001b[38;5;241m4\u001b[39m, \u001b[38;5;241m100\u001b[39m, \u001b[38;5;241m0.01\u001b[39m, \u001b[38;5;241m0.9\u001b[39m)\n\u001b[1;32m----> 9\u001b[0m \u001b[43mtsp\u001b[49m\u001b[38;5;241;43m.\u001b[39;49m\u001b[43mrun\u001b[49m\u001b[43m(\u001b[49m\u001b[43m)\u001b[49m\n",
      "File \u001b[1;32mc:\\Users\\joanf\\OneDrive - URV\\Master\\NEC\\NEC4_JoanFerre_JoanFreixas\\tsp_genetic_algorithm.py:45\u001b[0m, in \u001b[0;36mTSP.run\u001b[1;34m(self)\u001b[0m\n\u001b[0;32m     43\u001b[0m \u001b[38;5;28mprint\u001b[39m(\u001b[38;5;28mself\u001b[39m\u001b[38;5;241m.\u001b[39mfitness)\n\u001b[0;32m     44\u001b[0m \u001b[38;5;28;01mfor\u001b[39;00m _ \u001b[38;5;129;01min\u001b[39;00m \u001b[38;5;28mrange\u001b[39m(\u001b[38;5;28mself\u001b[39m\u001b[38;5;241m.\u001b[39mnum_generations):\n\u001b[1;32m---> 45\u001b[0m     \u001b[38;5;28;01mfor\u001b[39;00m _ \u001b[38;5;129;01min\u001b[39;00m \u001b[38;5;28;43mrange\u001b[39;49m\u001b[43m(\u001b[49m\u001b[38;5;28;43mself\u001b[39;49m\u001b[38;5;241;43m.\u001b[39;49m\u001b[43mnum_chromosomes\u001b[49m\u001b[38;5;241;43m/\u001b[39;49m\u001b[38;5;241;43m2\u001b[39;49m\u001b[43m)\u001b[49m:\n\u001b[0;32m     46\u001b[0m         \u001b[38;5;66;03m# select parents\u001b[39;00m\n\u001b[0;32m     47\u001b[0m         p1, p2 \u001b[38;5;241m=\u001b[39m \u001b[38;5;28mself\u001b[39m\u001b[38;5;241m.\u001b[39mselect_parents()\n\u001b[0;32m     48\u001b[0m         \u001b[38;5;66;03m# crossover\u001b[39;00m\n",
      "\u001b[1;31mTypeError\u001b[0m: 'float' object cannot be interpreted as an integer"
     ]
    }
   ],
   "source": [
    "# Extract node coordinates for the first 5 cities\n",
    "reduced_nodes = {key: original_problem.node_coords[key] for key in list(original_problem.get_nodes())[:5]}\n",
    "\n",
    "# Create a new TSP problem with only 5 cities\n",
    "reduced_problem = tsplib95.models.StandardProblem(comment=\"Reduced TSP to 5 cities\")\n",
    "reduced_problem.node_coords = reduced_nodes\n",
    "\n",
    "tsp = TSP(reduced_problem, 4, 100, 0.01, 0.9)\n",
    "tsp.run()"
   ]
  },
  {
   "cell_type": "code",
   "execution_count": 16,
   "metadata": {},
   "outputs": [
    {
     "data": {
      "image/png": "[encoded data removed]",
      "text/plain": [
       "<Figure size 640x480 with 1 Axes>"
      ]
     },
     "metadata": {},
     "output_type": "display_data"
    }
   ],
   "source": [
    "\n",
    "\n",
    "# Create a graph and add nodes\n",
    "G = nx.Graph()\n",
    "G.add_nodes_from(reduced_nodes.keys())\n",
    "\n",
    "# Draw the nodes without edges\n",
    "pos = {node: (reduced_nodes[node][0], reduced_nodes[node][1]) for node in reduced_nodes}\n",
    "nx.draw(G, pos, node_color='black', with_labels=False, node_size=100)\n",
    "plt.title('Reduced TSP to 5 Cities')\n",
    "plt.show()\n"
   ]
  }
 ],
 "metadata": {
  "kernelspec": {
   "display_name": "Python 3",
   "language": "python",
   "name": "python3"
  },
  "language_info": {
   "codemirror_mode": {
    "name": "ipython",
    "version": 3
   },
   "file_extension": ".py",
   "mimetype": "text/x-python",
   "name": "python",
   "nbconvert_exporter": "python",
   "pygments_lexer": "ipython3",
   "version": "3.10.2"
  }
 },
 "nbformat": 4,
 "nbformat_minor": 2
}
